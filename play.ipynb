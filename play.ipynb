{
 "cells": [
  {
   "cell_type": "code",
   "execution_count": null,
   "id": "af4af8c1",
   "metadata": {},
   "outputs": [],
   "source": [
    "from aquacrop.utils import get_filepath, prepare_weather\n",
    "import matplotlib.pyplot as plt\n",
    "import numpy as np\n",
    "import pandas as pd\n",
    "import torch\n",
    "from tqdm import tqdm\n",
    "import yaml\n",
    "\n",
    "from evaluator import AquaCropEvaluator\n",
    "from prescriptor import RNNPrescriptorFactory"
   ]
  },
  {
   "cell_type": "code",
   "execution_count": null,
   "id": "593fe563",
   "metadata": {},
   "outputs": [],
   "source": [
    "weather_path = get_filepath(\"champion_climate.txt\")\n",
    "wdf = prepare_weather(weather_path)"
   ]
  },
  {
   "cell_type": "code",
   "execution_count": null,
   "id": "e6e802a5",
   "metadata": {},
   "outputs": [],
   "source": [
    "wdf[\"Date\"].min(), wdf[\"Date\"].max()"
   ]
  },
  {
   "cell_type": "code",
   "execution_count": null,
   "id": "f280073c",
   "metadata": {},
   "outputs": [],
   "source": [
    "nn = torch.nn.Sequential(\n",
    "    torch.nn.Linear(4, 64),\n",
    "    torch.nn.ReLU(),\n",
    "    torch.nn.Linear(64, 5)\n",
    ")\n",
    "sum(p.numel() for p in nn.parameters())"
   ]
  },
  {
   "cell_type": "code",
   "execution_count": null,
   "id": "a4eecb9e",
   "metadata": {},
   "outputs": [],
   "source": [
    "rnn = torch.nn.RNN(4, 64, batch_first=True)\n",
    "inp = torch.ones(3, 10, 4)\n",
    "\n",
    "out, h = rnn(inp)\n",
    "print(out.shape, h.shape)\n",
    "print(out[0, -1, :])\n",
    "print(h[0, 0, :])"
   ]
  },
  {
   "cell_type": "markdown",
   "id": "cd00e7db",
   "metadata": {},
   "source": [
    "## Examine Results of Experiment"
   ]
  },
  {
   "cell_type": "code",
   "execution_count": null,
   "id": "96302ccb",
   "metadata": {},
   "outputs": [],
   "source": [
    "results_df = pd.read_csv(\"results/rnn-seeded/results.csv\")\n",
    "baseline_df = pd.read_csv(\"baselines/one-season.csv\")\n",
    "results_df[results_df[\"gen\"] == results_df[\"gen\"].max()]"
   ]
  },
  {
   "cell_type": "code",
   "execution_count": null,
   "id": "3237f500",
   "metadata": {},
   "outputs": [],
   "source": [
    "gen_df = results_df[results_df[\"gen\"] == results_df[\"gen\"].max()]\n",
    "plt.scatter(gen_df[\"irrigation\"], -1 * gen_df[\"yield\"], label=\"evolution\")\n",
    "# plt.scatter(baseline_df[\"irrigation\"], baseline_df[\"yield\"], color='red', label=\"baseline\")\n",
    "plt.legend()\n",
    "plt.xlabel(\"Avg Irrigation (mm)\")\n",
    "plt.ylabel(\"Avg Yield (tonnes/ha)\")\n",
    "plt.show()\n",
    "\n",
    "plt.scatter(gen_df[\"mulch_pct\"], -1 * gen_df[\"yield\"], label=\"evolution\")\n",
    "plt.show()"
   ]
  },
  {
   "cell_type": "code",
   "execution_count": null,
   "id": "c4d3b974",
   "metadata": {},
   "outputs": [],
   "source": [
    "plt.scatter(gen_df[\"irrigation\"], gen_df[\"mulch_pct\"], c=-1 * gen_df[\"yield\"])\n",
    "plt.title(\"Avg. Irrigation vs. Avg. Mulch colored by Avg. Yield\")\n",
    "plt.xlabel(\"Avg Irrigation (mm)\")\n",
    "plt.ylabel(\"Avg Mulch (%)\")\n",
    "plt.colorbar(label=\"Avg Yield (tonne/ha)\")\n",
    "plt.show()"
   ]
  },
  {
   "cell_type": "code",
   "execution_count": null,
   "id": "1bec8fcd",
   "metadata": {},
   "outputs": [],
   "source": [
    "dominant_cands = []\n",
    "for _, row in gen_df.iterrows():\n",
    "    for _, baseline_row in baseline_df.iterrows():\n",
    "        if row[\"irrigation\"] < baseline_row[\"irrigation\"] and -1 * row[\"yield\"] > baseline_row[\"yield\"]:\n",
    "            dominant_cands.append(row[\"cand_id\"])\n",
    "            break\n",
    "print(dominant_cands)"
   ]
  },
  {
   "cell_type": "markdown",
   "id": "0bd67444",
   "metadata": {},
   "source": [
    "## Examining the Results of Runs"
   ]
  },
  {
   "cell_type": "code",
   "execution_count": null,
   "id": "d5d69223",
   "metadata": {},
   "outputs": [],
   "source": [
    "with open(\"config.yml\", \"r\", encoding=\"utf-8\") as f:\n",
    "    config = yaml.safe_load(f)\n",
    "config[\"n_jobs\"] = 1\n",
    "\n",
    "evaluator = AquaCropEvaluator(**config[\"eval_params\"])\n",
    "factory = RNNPrescriptorFactory()\n",
    "\n",
    "population = factory.load_population(\"results/rnn-seeded/population\")\n",
    "cand_ids = gen_df[\"cand_id\"].tolist()\n",
    "results_dfs = {}\n",
    "policies = {}\n",
    "for cand_id in tqdm(cand_ids):\n",
    "    cand = population[cand_id]\n",
    "    policies[cand_id], results_dfs[cand_id] = evaluator.run_candidate(cand)"
   ]
  },
  {
   "cell_type": "code",
   "execution_count": null,
   "id": "d5b72c19",
   "metadata": {},
   "outputs": [],
   "source": [
    "labels = [\"lowest precip\", \"highest precip\", \"last year\", \"this year\"]\n",
    "fig, axes = plt.subplots(1, 4, figsize=(16, 4), sharey=True)\n",
    "for context_idx, ax in enumerate(axes):\n",
    "    ax.set_title(labels[context_idx])\n",
    "    smts = np.zeros((len(policies), 5))\n",
    "    for i, policy in enumerate(policies.values()):\n",
    "        for j in range(5):\n",
    "            smts[i, j] = policy[context_idx, j]\n",
    "    ax.boxplot(smts, tick_labels=[f\"SMT-{i+1}\" for i in range(4)] + [\"mulch\"])\n",
    "plt.show()"
   ]
  },
  {
   "cell_type": "code",
   "execution_count": null,
   "id": "10e25e2a",
   "metadata": {},
   "outputs": [],
   "source": [
    "stdev_total = 0\n",
    "n = 0\n",
    "for cand_id in cand_ids:\n",
    "    policy = policies[cand_id]\n",
    "    stdev_total += np.std(policy, axis=0).mean()\n",
    "    n += 1\n",
    "print(stdev_total / n)\n"
   ]
  },
  {
   "cell_type": "code",
   "execution_count": null,
   "id": "5d19cdb4",
   "metadata": {},
   "outputs": [],
   "source": [
    "yields = np.zeros((len(cand_ids), 4))\n",
    "irrs = np.zeros((len(cand_ids), 4))\n",
    "mulches = np.zeros((len(cand_ids), 4))\n",
    "for i, (cand_id, results_df) in enumerate(results_dfs.items()):\n",
    "    for j in range(4):\n",
    "        yields[i, j] = results_df.iloc[j][\"yield\"]\n",
    "        irrs[i, j] = results_df.iloc[j][\"irrigation\"]\n",
    "        mulches[i, j] = results_df.iloc[j][\"mulch_pct\"]\n",
    "\n",
    "fig, axes = plt.subplots(1, 4, figsize=(16, 4), sharey=True)\n",
    "for j in range(4):\n",
    "    axes[j].scatter(mulches[:, j], irrs[:, j], c=yields[:, j])\n",
    "    axes[j].set_xlabel(\"Mulch pct\")\n",
    "    axes[j].set_title(labels[j])\n",
    "fig.supylabel(\"Irrigation (mm)\")\n",
    "plt.show()"
   ]
  },
  {
   "cell_type": "code",
   "execution_count": null,
   "id": "853ac8a7",
   "metadata": {},
   "outputs": [],
   "source": [
    "fig, ax = plt.subplots()\n",
    "for j in range(4):\n",
    "    ax.scatter(irrs[:, j], yields[:, j], label=labels[j], alpha=0.5)\n",
    "ax.set_title(\"Irrigation vs. Yield by Weather\")\n",
    "ax.set_xlabel(\"Total Irrigation (mm)\")\n",
    "ax.set_ylabel(\"Yield (tonnes/ha)\")\n",
    "ax.legend()\n",
    "plt.show()"
   ]
  },
  {
   "cell_type": "code",
   "execution_count": null,
   "id": "c98327df",
   "metadata": {},
   "outputs": [],
   "source": [
    "wdf = evaluator.weather_data\n",
    "print(wdf.columns)\n",
    "filtered = wdf[(wdf[\"Date\"] >= pd.to_datetime(evaluator.sim_start_date)) & (wdf[\"Date\"] <= pd.to_datetime(evaluator.sim_end_date))]\n",
    "print(len(filtered))\n",
    "print(len(results_df))"
   ]
  },
  {
   "cell_type": "code",
   "execution_count": null,
   "id": "7b555722",
   "metadata": {},
   "outputs": [],
   "source": [
    "assert results_df[\"depths\"].equals(results_df[\"IrrDay\"])\n",
    "assert results_df[\"DryYield\"].max() == final_stats[\"Dry yield (tonne/ha)\"].max()"
   ]
  },
  {
   "cell_type": "code",
   "execution_count": null,
   "id": "91c544eb",
   "metadata": {},
   "outputs": [],
   "source": [
    "print(results_df.columns)"
   ]
  },
  {
   "cell_type": "code",
   "execution_count": null,
   "id": "a2a7aa60",
   "metadata": {},
   "outputs": [],
   "source": [
    "plt.plot(results_df[results_df[\"depths\"] > 0][\"depths\"])\n",
    "plt.title(\"Irrigation Depth\")\n",
    "plt.xlabel(\"Days\")\n",
    "plt.ylabel(\"Depth (mm)\")\n",
    "plt.show()"
   ]
  },
  {
   "cell_type": "markdown",
   "id": "7c9e2dd1",
   "metadata": {},
   "source": [
    "## Examine Generated Data"
   ]
  },
  {
   "cell_type": "code",
   "execution_count": null,
   "id": "31824d0d",
   "metadata": {},
   "outputs": [],
   "source": [
    "data_df = pd.read_csv(\"data/one-season-data.csv\")\n",
    "# Filter out rows where every single column except \"baseline\" is zero\n",
    "data_df = data_df[(data_df.drop(columns=[\"baseline\"]) != 0).any(axis=1)]"
   ]
  }
 ],
 "metadata": {
  "kernelspec": {
   "display_name": "praise",
   "language": "python",
   "name": "python3"
  },
  "language_info": {
   "codemirror_mode": {
    "name": "ipython",
    "version": 3
   },
   "file_extension": ".py",
   "mimetype": "text/x-python",
   "name": "python",
   "nbconvert_exporter": "python",
   "pygments_lexer": "ipython3",
   "version": "3.10.18"
  }
 },
 "nbformat": 4,
 "nbformat_minor": 5
}
